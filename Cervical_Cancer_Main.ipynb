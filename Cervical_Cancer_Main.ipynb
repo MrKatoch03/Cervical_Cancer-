{
 "cells": [
  {
   "cell_type": "code",
   "execution_count": 1,
   "id": "97c65b42-4107-4a5f-930d-6e9beb207a38",
   "metadata": {},
   "outputs": [],
   "source": [
    "import torch\n",
    "import torchvision\n",
    "import torchvision.transforms as transforms\n",
    "from torch.utils.data import DataLoader, random_split\n",
    "import torch.nn as nn\n",
    "import torch.optim as optim\n",
    "from torch.optim.lr_scheduler import CosineAnnealingLR\n",
    "from sklearn.metrics import f1_score, accuracy_score, precision_score, mean_squared_error, confusion_matrix\n",
    "from sklearn.preprocessing import StandardScaler\n",
    "from sklearn.ensemble import RandomForestClassifier\n",
    "import numpy as np\n",
    "import matplotlib.pyplot as plt\n",
    "import seaborn as sns"
   ]
  },
  {
   "cell_type": "code",
   "execution_count": 2,
   "id": "5c52f801-56e0-4ac3-99cf-310b102e594a",
   "metadata": {},
   "outputs": [
    {
     "data": {
      "text/plain": [
       "device(type='cpu')"
      ]
     },
     "execution_count": 2,
     "metadata": {},
     "output_type": "execute_result"
    }
   ],
   "source": [
    "device = torch.device(\"cuda\" if torch.cuda.is_available() else \"cpu\")\n",
    "device"
   ]
  },
  {
   "cell_type": "code",
   "execution_count": 3,
   "id": "b693c75d-075c-4a9d-bca5-0b180129ceef",
   "metadata": {},
   "outputs": [],
   "source": [
    "# Data Augmentation and Normalization\n",
    "transform_train = transforms.Compose([\n",
    "    transforms.RandomResizedCrop(224),\n",
    "    transforms.RandomHorizontalFlip(),\n",
    "    transforms.RandomRotation(15),\n",
    "    transforms.ColorJitter(brightness=0.1, contrast=0.1, saturation=0.1, hue=0.1),\n",
    "    transforms.ToTensor(),\n",
    "    transforms.Normalize(mean=[0.485, 0.456, 0.406], std=[0.229, 0.224, 0.225])\n",
    "])"
   ]
  },
  {
   "cell_type": "code",
   "execution_count": 4,
   "id": "471b9098-eab8-4542-b35e-0ae66f7c3f74",
   "metadata": {},
   "outputs": [],
   "source": [
    "transform_test = transforms.Compose([\n",
    "    transforms.Resize(256),\n",
    "    transforms.CenterCrop(224),\n",
    "    transforms.ToTensor(),\n",
    "    transforms.Normalize(mean=[0.485, 0.456, 0.406], std=[0.229, 0.224, 0.225])\n",
    "])"
   ]
  },
  {
   "cell_type": "code",
   "execution_count": 5,
   "id": "ed2a0ee7-e33c-4b31-83ec-59578a8b42af",
   "metadata": {},
   "outputs": [],
   "source": [
    "full_dataset = torchvision.datasets.ImageFolder(root='D:/capstone/Train Dataset', transform=transform_train)\n",
    "train_size = int(0.9 * len(full_dataset))\n",
    "val_size = len(full_dataset) - train_size\n",
    "train_dataset, val_dataset = random_split(full_dataset, [train_size, val_size])\n",
    "\n",
    "train_loader = DataLoader(train_dataset, batch_size=16, shuffle=True, num_workers=4)\n",
    "val_loader = DataLoader(val_dataset, batch_size=16, shuffle=False, num_workers=4)\n",
    "\n",
    "test_dataset = torchvision.datasets.ImageFolder(root='D:/capstone/Test Dataset', transform=transform_test)\n",
    "test_loader = DataLoader(test_dataset, batch_size=16, shuffle=False, num_workers=4)\n",
    "\n",
    "num_classes = len(full_dataset.classes)"
   ]
  },
  {
   "cell_type": "code",
   "execution_count": 6,
   "id": "6d09e7ec-6e6f-4acf-95cd-d5b6eea3a54b",
   "metadata": {},
   "outputs": [],
   "source": [
    "def extract_features(model, dataloader):\n",
    "    features = []\n",
    "    labels = []\n",
    "    model.eval()\n",
    "    with torch.no_grad():\n",
    "        for inputs, targets in dataloader:\n",
    "            inputs = inputs.to(device)\n",
    "            outputs = model(inputs)\n",
    "            features.append(outputs.cpu().numpy())\n",
    "            labels.append(targets.numpy())\n",
    "    return np.concatenate(features), np.concatenate(labels)"
   ]
  },
  {
   "cell_type": "code",
   "execution_count": 7,
   "id": "2e8665f6-4f93-465b-88b1-dbd9b890c200",
   "metadata": {},
   "outputs": [],
   "source": [
    "def fine_tune_model(model, num_classes):\n",
    "    if isinstance(model, torchvision.models.EfficientNet):\n",
    "        for param in model.features.parameters():\n",
    "            param.requires_grad = True\n",
    "        num_ftrs = model.classifier[1].in_features\n",
    "        model.classifier = nn.Sequential(\n",
    "            nn.Dropout(0.4),\n",
    "            nn.Linear(num_ftrs, 1024),\n",
    "            nn.ReLU(),\n",
    "            nn.Dropout(0.4),\n",
    "            nn.Linear(1024, 512),\n",
    "            nn.ReLU(),\n",
    "            nn.Dropout(0.3),\n",
    "            nn.Linear(512, num_classes)\n",
    "        )\n",
    "    elif isinstance(model, torchvision.models.VisionTransformer):\n",
    "        for param in model.encoder.layers[-6:].parameters():\n",
    "            param.requires_grad = True\n",
    "        num_ftrs = model.heads.head.in_features\n",
    "        model.heads.head = nn.Sequential(\n",
    "            nn.Linear(num_ftrs, 1024),\n",
    "            nn.ReLU(),\n",
    "            nn.Dropout(0.3),\n",
    "            nn.Linear(1024, 512),\n",
    "            nn.ReLU(),\n",
    "            nn.Dropout(0.2),\n",
    "            nn.Linear(512, num_classes)\n",
    "        )\n",
    "    elif isinstance(model, torchvision.models.DenseNet):\n",
    "        for param in model.features.denseblock4.parameters():\n",
    "            param.requires_grad = True\n",
    "        num_ftrs = model.classifier.in_features\n",
    "        model.classifier = nn.Sequential(\n",
    "            nn.Dropout(0.2),\n",
    "            nn.Linear(num_ftrs, 1024),\n",
    "            nn.ReLU(),\n",
    "            nn.Dropout(0.2),\n",
    "            nn.Linear(1024, 512),\n",
    "            nn.ReLU(),\n",
    "            nn.Dropout(0.1),\n",
    "            nn.Linear(512, num_classes)\n",
    "        )\n",
    "    \n",
    "    return model"
   ]
  },
  {
   "cell_type": "code",
   "execution_count": 8,
   "id": "14843169-d888-48df-a2a7-3324b7ab1d27",
   "metadata": {},
   "outputs": [
    {
     "name": "stderr",
     "output_type": "stream",
     "text": [
      "C:\\Users\\mridu\\anaconda3\\Lib\\site-packages\\torchvision\\models\\_utils.py:208: UserWarning: The parameter 'pretrained' is deprecated since 0.13 and may be removed in the future, please use 'weights' instead.\n",
      "  warnings.warn(\n",
      "C:\\Users\\mridu\\anaconda3\\Lib\\site-packages\\torchvision\\models\\_utils.py:223: UserWarning: Arguments other than a weight enum or `None` for 'weights' are deprecated since 0.13 and may be removed in the future. The current behavior is equivalent to passing `weights=None`.\n",
      "  warnings.warn(msg)\n"
     ]
    }
   ],
   "source": [
    "# Initialize models\n",
    "efficientnet = fine_tune_model(torchvision.models.efficientnet_v2_s(pretrained=False), num_classes).to(device)\n",
    "vision_transformer = fine_tune_model(torchvision.models.vit_b_16(pretrained=False), num_classes).to(device)\n",
    "densenet = fine_tune_model(torchvision.models.densenet201(pretrained=False), num_classes).to(device)"
   ]
  },
  {
   "cell_type": "code",
   "execution_count": 15,
   "id": "037bdb72-0a26-491b-abea-6a43435e25e8",
   "metadata": {},
   "outputs": [],
   "source": [
    "def load_model_weights(model, weight_path):\n",
    "    model.load_state_dict(torch.load(weight_path,map_location ='cpu'))\n",
    "    model.eval()\n",
    "    return model"
   ]
  },
  {
   "cell_type": "code",
   "execution_count": 17,
   "id": "c68dc18a-b361-483a-b85e-34152404d901",
   "metadata": {},
   "outputs": [
    {
     "name": "stderr",
     "output_type": "stream",
     "text": [
      "C:\\Users\\mridu\\AppData\\Local\\Temp\\ipykernel_33648\\1876342858.py:2: FutureWarning: You are using `torch.load` with `weights_only=False` (the current default value), which uses the default pickle module implicitly. It is possible to construct malicious pickle data which will execute arbitrary code during unpickling (See https://github.com/pytorch/pytorch/blob/main/SECURITY.md#untrusted-models for more details). In a future release, the default value for `weights_only` will be flipped to `True`. This limits the functions that could be executed during unpickling. Arbitrary objects will no longer be allowed to be loaded via this mode unless they are explicitly allowlisted by the user via `torch.serialization.add_safe_globals`. We recommend you start setting `weights_only=True` for any use case where you don't have full control of the loaded file. Please open an issue on GitHub for any issues related to this experimental feature.\n",
      "  model.load_state_dict(torch.load(weight_path,map_location ='cpu'))\n"
     ]
    }
   ],
   "source": [
    "efficientnet = load_model_weights(efficientnet,'EfficientNet_best.pth')"
   ]
  },
  {
   "cell_type": "code",
   "execution_count": 19,
   "id": "4b100f17-3bb7-4b28-9b31-9d7f9f75f502",
   "metadata": {},
   "outputs": [
    {
     "name": "stderr",
     "output_type": "stream",
     "text": [
      "C:\\Users\\mridu\\AppData\\Local\\Temp\\ipykernel_33648\\1876342858.py:2: FutureWarning: You are using `torch.load` with `weights_only=False` (the current default value), which uses the default pickle module implicitly. It is possible to construct malicious pickle data which will execute arbitrary code during unpickling (See https://github.com/pytorch/pytorch/blob/main/SECURITY.md#untrusted-models for more details). In a future release, the default value for `weights_only` will be flipped to `True`. This limits the functions that could be executed during unpickling. Arbitrary objects will no longer be allowed to be loaded via this mode unless they are explicitly allowlisted by the user via `torch.serialization.add_safe_globals`. We recommend you start setting `weights_only=True` for any use case where you don't have full control of the loaded file. Please open an issue on GitHub for any issues related to this experimental feature.\n",
      "  model.load_state_dict(torch.load(weight_path,map_location ='cpu'))\n"
     ]
    }
   ],
   "source": [
    "vision_transformer = load_model_weights(vision_transformer,'VisionTransformer_best.pth')"
   ]
  },
  {
   "cell_type": "code",
   "execution_count": 21,
   "id": "886f53b5-09e8-4cdb-8c08-75f0b80c5540",
   "metadata": {},
   "outputs": [
    {
     "name": "stderr",
     "output_type": "stream",
     "text": [
      "C:\\Users\\mridu\\AppData\\Local\\Temp\\ipykernel_33648\\1876342858.py:2: FutureWarning: You are using `torch.load` with `weights_only=False` (the current default value), which uses the default pickle module implicitly. It is possible to construct malicious pickle data which will execute arbitrary code during unpickling (See https://github.com/pytorch/pytorch/blob/main/SECURITY.md#untrusted-models for more details). In a future release, the default value for `weights_only` will be flipped to `True`. This limits the functions that could be executed during unpickling. Arbitrary objects will no longer be allowed to be loaded via this mode unless they are explicitly allowlisted by the user via `torch.serialization.add_safe_globals`. We recommend you start setting `weights_only=True` for any use case where you don't have full control of the loaded file. Please open an issue on GitHub for any issues related to this experimental feature.\n",
      "  model.load_state_dict(torch.load(weight_path,map_location ='cpu'))\n"
     ]
    }
   ],
   "source": [
    "densenet = load_model_weights(densenet,'DenseNet_best.pth')"
   ]
  },
  {
   "cell_type": "code",
   "execution_count": 23,
   "id": "8b9d3c0b-8fca-4c80-8025-1a28857b2f35",
   "metadata": {},
   "outputs": [],
   "source": [
    "models = {\n",
    "    'efficientnet': efficientnet,\n",
    "    'vision_transformer': vision_transformer,\n",
    "    'densenet': densenet\n",
    "}"
   ]
  },
  {
   "cell_type": "code",
   "execution_count": 25,
   "id": "a6e5c157-8890-4c06-8e28-068b911b25d0",
   "metadata": {},
   "outputs": [],
   "source": [
    "# Extract features\n",
    "def extract_features_all_models(models, dataloader):\n",
    "    all_features = []\n",
    "    labels = None\n",
    "    for name, model in models.items():\n",
    "        features, labels = extract_features(model, dataloader)\n",
    "        all_features.append(features)\n",
    "    return np.concatenate(all_features, axis=1), labels\n"
   ]
  },
  {
   "cell_type": "code",
   "execution_count": 27,
   "id": "c47a1501-7099-4a5c-8193-3893818beca2",
   "metadata": {},
   "outputs": [],
   "source": [
    "train_features, train_labels = extract_features_all_models(models, train_loader)\n",
    "val_features, val_labels = extract_features_all_models(models, val_loader)\n",
    "test_features, test_labels = extract_features_all_models(models, test_loader)\n"
   ]
  },
  {
   "cell_type": "code",
   "execution_count": null,
   "id": "d2a94b6b-6041-4cb2-9c2d-4d63fb4bb9bb",
   "metadata": {},
   "outputs": [],
   "source": [
    "# def changes(X):\n",
    "#     X_changed = X.copy()  # Create a copy to avoid modifying the original dataset\n",
    "#     for i in range(5):\n",
    "#         value = (X[i] + X[i + 5] + X[i + 10]) / 3  # Average the values\n",
    "#         X_changed[i] = value  # Replace the value at index i\n",
    "#     return X_changed\n"
   ]
  },
  {
   "cell_type": "code",
   "execution_count": null,
   "id": "c5f2aab7-27d2-4c28-8c0e-824b6a1e1dab",
   "metadata": {},
   "outputs": [],
   "source": [
    "# # Apply changes to train, val, and test features\n",
    "# train_features_changed = changes(train_features)\n",
    "# val_features_changed = changes(val_features)\n",
    "# test_features_changed = changes(test_features)"
   ]
  },
  {
   "cell_type": "code",
   "execution_count": null,
   "id": "f738b01c-7a72-4aa7-9040-48353ded3f48",
   "metadata": {},
   "outputs": [],
   "source": [
    "# # scaler = StandardScaler()\n",
    "# # train_features_normalized = scaler.fit_transform(train_features)\n",
    "# # val_features_normalized = scaler.transform(val_features)\n",
    "# # test_features_normalized = scaler.transform(test_features)\n",
    "# train_features_changed.shape"
   ]
  },
  {
   "cell_type": "code",
   "execution_count": 29,
   "id": "19fe3b8f-6b83-4aa2-983c-0ae477131891",
   "metadata": {},
   "outputs": [],
   "source": [
    "scaler = StandardScaler()\n",
    "train_features_normalized = scaler.fit_transform(train_features)\n",
    "val_features_normalized = scaler.transform(val_features)\n",
    "test_features_normalized = scaler.transform(test_features)"
   ]
  },
  {
   "cell_type": "code",
   "execution_count": 31,
   "id": "1fe87813-2f00-46c1-bcf4-52aa1ff0d895",
   "metadata": {},
   "outputs": [],
   "source": [
    "def create_random_forest_ensemble(X_train, y_train, X_val, y_val):\n",
    "    rf_classifier = RandomForestClassifier(n_estimators=200, max_depth=10, random_state=42, n_jobs=-1)\n",
    "    rf_classifier.fit(X_train, y_train)\n",
    "    \n",
    "    val_preds = rf_classifier.predict(X_val)\n",
    "    val_accuracy = accuracy_score(y_val, val_preds)\n",
    "    print(f\"Random Forest Ensemble Validation Accuracy: {val_accuracy:.4f}\")\n",
    "    \n",
    "    return rf_classifier"
   ]
  },
  {
   "cell_type": "code",
   "execution_count": 33,
   "id": "2b0e56ae-595a-4978-a4e6-e8dbd2584e54",
   "metadata": {},
   "outputs": [
    {
     "name": "stdout",
     "output_type": "stream",
     "text": [
      "Random Forest Ensemble Validation Accuracy: 0.9655\n"
     ]
    }
   ],
   "source": [
    "# Create and evaluate Random Forest ensemble\n",
    "rf_ensemble = create_random_forest_ensemble(train_features_normalized, train_labels, val_features_normalized, val_labels)\n",
    "\n"
   ]
  },
  {
   "cell_type": "code",
   "execution_count": 35,
   "id": "b843d836-dfa2-41aa-8ff3-420a3cae98b0",
   "metadata": {},
   "outputs": [
    {
     "name": "stdout",
     "output_type": "stream",
     "text": [
      "Random Forest Ensemble Test Accuracy: 0.9781\n"
     ]
    }
   ],
   "source": [
    "# Make predictions on test set\n",
    "test_preds = rf_ensemble.predict(test_features_normalized)\n",
    "test_accuracy = accuracy_score(test_labels, test_preds)\n",
    "print(f\"Random Forest Ensemble Test Accuracy: {test_accuracy:.4f}\")"
   ]
  },
  {
   "cell_type": "code",
   "execution_count": 37,
   "id": "d7e4adab-c518-4a75-84ea-338c42060d9e",
   "metadata": {},
   "outputs": [],
   "source": [
    "# Calculate metrics\n",
    "def calculate_metrics(y_true, y_pred):\n",
    "    return {\n",
    "        'f1_score': f1_score(y_true, y_pred, average='weighted'),\n",
    "        'accuracy': accuracy_score(y_true, y_pred),\n",
    "        'precision': precision_score(y_true, y_pred, average='weighted'),\n",
    "        'mse': mean_squared_error(y_true, y_pred)\n",
    "    }\n"
   ]
  },
  {
   "cell_type": "code",
   "execution_count": 39,
   "id": "1fa34949-8315-4989-81af-7365e353c393",
   "metadata": {},
   "outputs": [],
   "source": [
    "train_preds = rf_ensemble.predict(train_features_normalized)\n",
    "val_preds = rf_ensemble.predict(val_features_normalized)\n",
    "\n",
    "train_metrics = calculate_metrics(train_labels, train_preds)\n",
    "val_metrics = calculate_metrics(val_labels, val_preds)\n",
    "test_metrics = calculate_metrics(test_labels, test_preds)"
   ]
  },
  {
   "cell_type": "code",
   "execution_count": 41,
   "id": "cbc19582-5751-498a-b085-e98d593c11ee",
   "metadata": {},
   "outputs": [
    {
     "name": "stdout",
     "output_type": "stream",
     "text": [
      "Train metrics: {'f1_score': 0.9871344484316356, 'accuracy': 0.9871232876712329, 'precision': 0.9871611151152891, 'mse': 0.02493150684931507}\n",
      "Validation metrics: {'f1_score': 0.9654782007169014, 'accuracy': 0.9655172413793104, 'precision': 0.9655213416457795, 'mse': 0.09852216748768473}\n",
      "Test metrics: {'f1_score': 0.9780899421027046, 'accuracy': 0.9781021897810219, 'precision': 0.9783750054956519, 'mse': 0.049009384775808136}\n"
     ]
    }
   ],
   "source": [
    "print(\"Train metrics:\", train_metrics)\n",
    "print(\"Validation metrics:\", val_metrics)\n",
    "print(\"Test metrics:\", test_metrics)"
   ]
  },
  {
   "cell_type": "code",
   "execution_count": null,
   "id": "1c9b58c5-e26a-40af-a982-4a9195c5d7af",
   "metadata": {},
   "outputs": [],
   "source": []
  }
 ],
 "metadata": {
  "kernelspec": {
   "display_name": "Python 3 (ipykernel)",
   "language": "python",
   "name": "python3"
  },
  "language_info": {
   "codemirror_mode": {
    "name": "ipython",
    "version": 3
   },
   "file_extension": ".py",
   "mimetype": "text/x-python",
   "name": "python",
   "nbconvert_exporter": "python",
   "pygments_lexer": "ipython3",
   "version": "3.12.7"
  }
 },
 "nbformat": 4,
 "nbformat_minor": 5
}
